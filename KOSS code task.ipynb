{
 "cells": [
  {
   "cell_type": "code",
   "execution_count": 143,
   "id": "85099f2d",
   "metadata": {},
   "outputs": [
    {
     "name": "stdout",
     "output_type": "stream",
     "text": [
      "Enter the word you want to search: ahahah\n",
      "Not present\n"
     ]
    }
   ],
   "source": [
    "#TASK 1\n",
    "\n",
    "from collections import Counter\n",
    "import pandas as pd\n",
    "\n",
    "data=pd.read_table(\"data.txt\", sep=\",\\n \", engine=\"python\", header= None)\n",
    "data_1=data[0].str.replace(\"[\", \"\", regex=True)\n",
    "data_2=data_1.str.replace(\"]\", \"\", regex=True)\n",
    "data_3=data_2.str.replace(\",\", \"\", regex=True)\n",
    "data_4=data_3.str.replace(\"'\", \"\", regex=True)\n",
    "                         \n",
    "my_count=Counter(data_4)\n",
    "dataset=dict(my_count)\n",
    "sort_dataset = dict(sorted(dataset.items(), key=lambda x: x[1], reverse=True))\n",
    "\n",
    "with open(\"myfile.txt\", 'w') as f: \n",
    "    for key, value in sort_dataset.items(): \n",
    "        f.write('%s:%s\\n'  %(key, value))\n",
    "#TASK 2  \n",
    "\n",
    "flag=0\n",
    "word=input(\"Enter the word you want to search: \") \n",
    "for key,value in dataset.items():\n",
    "    if word==key:\n",
    "        flag=value\n",
    "\n",
    "if flag>=1:\n",
    "    print(flag)\n",
    "else:\n",
    "    print(\"Not present\")"
   ]
  },
  {
   "cell_type": "code",
   "execution_count": null,
   "id": "3e775aa3",
   "metadata": {},
   "outputs": [],
   "source": []
  },
  {
   "cell_type": "code",
   "execution_count": null,
   "id": "6fbde5ab",
   "metadata": {},
   "outputs": [],
   "source": [
    "\n"
   ]
  },
  {
   "cell_type": "code",
   "execution_count": null,
   "id": "25261537",
   "metadata": {},
   "outputs": [],
   "source": []
  },
  {
   "cell_type": "code",
   "execution_count": null,
   "id": "26fe9369",
   "metadata": {},
   "outputs": [],
   "source": []
  }
 ],
 "metadata": {
  "kernelspec": {
   "display_name": "Python 3 (ipykernel)",
   "language": "python",
   "name": "python3"
  },
  "language_info": {
   "codemirror_mode": {
    "name": "ipython",
    "version": 3
   },
   "file_extension": ".py",
   "mimetype": "text/x-python",
   "name": "python",
   "nbconvert_exporter": "python",
   "pygments_lexer": "ipython3",
   "version": "3.9.12"
  }
 },
 "nbformat": 4,
 "nbformat_minor": 5
}
